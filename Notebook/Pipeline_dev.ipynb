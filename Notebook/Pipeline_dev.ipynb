{
 "cells": [
  {
   "cell_type": "code",
   "execution_count": 1,
   "id": "15c579e7",
   "metadata": {},
   "outputs": [],
   "source": [
    "####IMPORTAMOS LIBRERÍAS\n",
    "import pandas as pd\n",
    "import os\n",
    "import numpy as np\n",
    "import requests\n",
    "import geopandas as gpd \n",
    "from shapely.geometry import Point"
   ]
  },
  {
   "cell_type": "code",
   "execution_count": 2,
   "id": "afbd15cb",
   "metadata": {},
   "outputs": [],
   "source": [
    "#### DEFINIMOS FUNCIONES \n",
    "def distance_m(mercator_start, mercator_finish):\n",
    "    return mercator_start.distance(mercator_finish)\n",
    "\n",
    "\n",
    "def to_mercator(lat, long):\n",
    "    # transform latitude/longitude data in degrees to pseudo-mercator coordinates in metres\n",
    "    c = gpd.GeoSeries([Point(lat, long)], crs=4326)\n",
    "    c = c.to_crs(3857)\n",
    "    return c\n",
    "\n",
    "#FUNCIÓN QUE RECIBE DATOS DE BICIMAD Y DEVUELVE EL DATASET CON EL MODELO DE DATOS QUE BUSCAMOS\n",
    "\n",
    "def getdata_bicimad(json):\n",
    "    bicimad_data = pd.read_json(json)\n",
    "    bicimad_data = bicimad_data.drop(columns=['id','light',\"number\",\"activate\",\"no_available\",\"total_bases\", \"dock_bikes\",\"free_bases\",\"reservations_count\",\"geometry_type\"])\n",
    "    bicimad_data['LONGITUD']=bicimad_data['geometry_coordinates'].map(lambda x:x.split(',')[0].replace(\"[\",\"\")).astype(float)\n",
    "    bicimad_data['LATITUD']=bicimad_data['geometry_coordinates'].map(lambda x:x.split(',')[1].replace(\"]\",\"\")).astype(float)\n",
    "    bicimad_data = bicimad_data.drop(columns=['geometry_coordinates'])\n",
    "    bicimad_data = bicimad_data.rename(columns={'LATITUD':'lat_finish','LONGITUD':'long_finish','name':'BiciMAD station','address':'Station location'})\n",
    "    bicimad_data[\"PUNTO B\"] = bicimad_data.apply(lambda x: to_mercator(x[\"lat_finish\"],x[\"long_finish\"]), axis = 1)\n",
    "    result = bicimad_data\n",
    "\n",
    "    return result\n",
    "\n",
    "\n",
    "#FUNCIÓN QUE RECIBE URL DE AYUNTAMIENTO Y DEVUELVE EL DATASET DE COLEGIOS CON EL MODELO DE DATOS LIMPIO\n",
    "\n",
    "def getdata_public_school(url):\n",
    "    colegios_publicos_data = requests.get(url)\n",
    "    colegios_publicos_data = colegios_publicos_data.json()\n",
    "    colegios_publicos_data = pd.json_normalize(colegios_publicos_data['@graph'])\n",
    "    colegios_publicos_data = colegios_publicos_data.drop(columns=[\"@id\",\"@type\",\"id\",\"relation\",\"address.district.@id\",\"address.area.@id\",\"address.locality\",\"address.postal-code\",\"organization.organization-desc\",\"organization.accesibility\",\"organization.schedule\",\"organization.services\",\"organization.organization-name\"])\n",
    "    result = colegios_publicos_data.assign(Tipo_Centro = \"Colegios Publicos\")\n",
    "    return result\n",
    "\n",
    "\n",
    "#FUNCIÓN QUE RECIBE URL DE AYUNTAMIENTO Y DEVUELVE EL DATASET DE ESCUELAS CON EL MODELO DE DATOS LIMPIO\n",
    "\n",
    "def getdata_escuelas_infantiles(url):\n",
    "    escuelas_infantiles_data = requests.get(url)\n",
    "    escuelas_infantiles_data = escuelas_infantiles_data.json()\n",
    "    escuelas_infantiles_data = pd.json_normalize(escuelas_infantiles_data['@graph'])\n",
    "    escuelas_infantiles_data = escuelas_infantiles_data.drop(columns=[\"@id\",\"@type\",\"id\",\"relation\",\"address.district.@id\",\"address.area.@id\",\"address.locality\",\"address.postal-code\",\"organization.organization-desc\",\"organization.accesibility\",\"organization.schedule\",\"organization.services\",\"organization.organization-name\"])\n",
    "    result =escuelas_infantiles_data.assign(Tipo_Centro = \"Escuelas Infantiles\")\n",
    "    return result\n",
    "\n",
    "#FUNCIÓN QUE MERGEA DATASET DE AYUNTAMIENTO Y LOS LIMPIA Y AÑADE COLUMNA PUNTO A\n",
    "\n",
    "def concat_dataset_ayuntamiento(data1,data2):\n",
    "    ayuntamiento_data = pd.concat([data1, data2], axis=0)\n",
    "    ayuntamiento_data['address.street-address']=ayuntamiento_data['address.street-address'].str.title()\n",
    "    ayuntamiento_data = ayuntamiento_data.rename(columns={'location.latitude':'lat_start','location.longitude':'long_start','title':'Place of interest','address.street-address':'Place address'})\n",
    "    ayuntamiento_data[\"PUNTO A\"] = ayuntamiento_data.apply(lambda x: to_mercator(x[\"lat_start\"],x[\"long_start\"]), axis = 1)\n",
    "    result = ayuntamiento_data\n",
    "    return result\n",
    "\n",
    "#FUNCIÓN QUE MERGEA DATASET DEL PROYECTO Y CREA LA COLUMNA CON EL RESULTADO DE LA DISTANCIA EN METROS ENTRE LOS PUNTOS A Y B\n",
    "\n",
    "def concat_dataset_proyect(data1,data2):\n",
    "    proyect_data = pd.merge(data1, data2 ,how=\"cross\")\n",
    "    proyect_data['Distancia'] = proyect_data.apply(lambda x: distance_m(x[\"PUNTO A\"], x[\"PUNTO B\"]), axis = 1)\n",
    "    result = proyect_data.drop(['lat_start','long_start', 'long_finish', 'lat_finish','PUNTO A','PUNTO B'], axis='columns')\n",
    "    # proyect_data['address.street-address']=ayuntamiento_data['address.street-address'].str.title() ##ELIMINAR SI EJECUTA ##\n",
    "    return result\n",
    "\n",
    "\n",
    "## FUNCIÓN PARA RECIBIR EL INPUT Y DEVOLVER LA DISTANCIA MÍNIMA\n",
    "\n",
    "def result_one(data):\n",
    "    all_results = data[data[\"Place of interest\"] == input('Pon el lugar de interés: ')]\n",
    "    selection = all_results[all_results['Distancia'] == all_results['Distancia'].min()] # Comprobar si es Distancia o Distance\n",
    "    result_one = selection[[\"Place of interest\",\"Tipo_Centro\",\"Place address\",\"BiciMAD station\",\"Station location\"]]\n",
    "    return result_one\n",
    "\n",
    "## FUNCIÓN PARA RECIBIR EL INPUT Y DEVOLVER TODOS LOS RESULTAOS\n",
    "\n",
    "def result_all(data):\n",
    "    all_results = data[data[\"Place of interest\"] == input('Pon el lugar de interés: ')]\n",
    "    selection = all_results[all_results['Distancia'] == all_results['Distancia']]\n",
    "    result = selection[[\"Place of interest\",\"Tipo_Centro\",\"Place address\",\"BiciMAD station\",\"Station location\"]]\n",
    "    return result_all\n",
    "\n",
    "\n",
    "## FUNCIÓN PARA RECIBIR UN DATAFRAME Y DESCARGA UN CSV EN CARPETA \"data\"\n",
    "def create_csv(df_result):\n",
    "    #df_csv = df_result.sort_values(ascending=False)\n",
    "    df_result.to_csv('../data/bicimad_AH.csv', index=False)\n",
    "    return print(\"Comprueba tu carpeta\")"
   ]
  },
  {
   "cell_type": "code",
   "execution_count": 3,
   "id": "4acd00d7",
   "metadata": {},
   "outputs": [],
   "source": [
    "#### DEFINIMOS CONSTANTES\n",
    "# Estas constantes pueden ser argumentos para argparse?\n",
    "\n",
    "json_bicimad = \"../data/bicimad.json\"\n",
    "url_colegios_json ='https://datos.madrid.es/egob/catalogo/202311-0-colegios-publicos.json'\n",
    "url_escuelas_json ='https://datos.madrid.es/egob/catalogo/202318-0-escuelas-infantiles.json'\n"
   ]
  },
  {
   "cell_type": "code",
   "execution_count": 4,
   "id": "24ab8066",
   "metadata": {},
   "outputs": [],
   "source": [
    "### PROGRAMA A EJECUTAR:\n",
    "\n",
    "# Punto de partida: obtenemos los 3 dataset\n",
    "data_bicimad = getdata_bicimad(json_bicimad)\n",
    "data_kindergarten = getdata_escuelas_infantiles(url_escuelas_json)\n",
    "data_public_school =getdata_public_school(url_colegios_json)\n"
   ]
  },
  {
   "cell_type": "code",
   "execution_count": 5,
   "id": "21d32cf1",
   "metadata": {},
   "outputs": [],
   "source": [
    "# 1º Merge del Dataset ayuntamientos\n",
    "data_city_hall = concat_dataset_ayuntamiento(data_kindergarten,data_public_school)"
   ]
  },
  {
   "cell_type": "code",
   "execution_count": 6,
   "id": "c708ba31",
   "metadata": {},
   "outputs": [],
   "source": [
    "# 2º Merge dataset de ayuntamiento y bicimad para la consulta\n",
    "data_project = concat_dataset_proyect(data_city_hall,data_bicimad)\n"
   ]
  },
  {
   "cell_type": "code",
   "execution_count": 11,
   "id": "df9b3c74",
   "metadata": {},
   "outputs": [
    {
     "name": "stdout",
     "output_type": "stream",
     "text": [
      "Pon el lugar de interés: Escuela infantil municipal Doña Francisquita\n"
     ]
    }
   ],
   "source": [
    "# 3º Ejecutamos Argparse para que nos devuelva: a) la estación más cercana b): todas las estaciones de menor a mayor\n",
    "data_one =result_one(data_project)\n",
    "#Escuela infantil municipal Doña Francisquita"
   ]
  },
  {
   "cell_type": "code",
   "execution_count": 12,
   "id": "003fafc0",
   "metadata": {},
   "outputs": [
    {
     "name": "stdout",
     "output_type": "stream",
     "text": [
      "Pon el lugar de interés: Escuela infantil municipal Doña Francisquita\n"
     ]
    }
   ],
   "source": [
    "data_all = result_all(data_project)\n"
   ]
  },
  {
   "cell_type": "code",
   "execution_count": 14,
   "id": "0570234b",
   "metadata": {},
   "outputs": [
    {
     "name": "stdout",
     "output_type": "stream",
     "text": [
      "Comprueba tu carpeta\n"
     ]
    }
   ],
   "source": [
    "### Imprimimos resultado con todas las opciones\n",
    "create_csv (data_all)\n"
   ]
  },
  {
   "cell_type": "code",
   "execution_count": 15,
   "id": "5cde882a",
   "metadata": {},
   "outputs": [
    {
     "name": "stdout",
     "output_type": "stream",
     "text": [
      "Comprueba tu carpeta\n"
     ]
    }
   ],
   "source": [
    "### Imprimimos resultado con la opción más cercana\n",
    "create_csv (data_one)"
   ]
  },
  {
   "cell_type": "code",
   "execution_count": null,
   "id": "90462949",
   "metadata": {},
   "outputs": [],
   "source": []
  }
 ],
 "metadata": {
  "kernelspec": {
   "display_name": "Python 3",
   "language": "python",
   "name": "python3"
  },
  "language_info": {
   "codemirror_mode": {
    "name": "ipython",
    "version": 3
   },
   "file_extension": ".py",
   "mimetype": "text/x-python",
   "name": "python",
   "nbconvert_exporter": "python",
   "pygments_lexer": "ipython3",
   "version": "3.7.11"
  }
 },
 "nbformat": 4,
 "nbformat_minor": 5
}
