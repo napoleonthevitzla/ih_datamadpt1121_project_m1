{
 "cells": [
  {
   "cell_type": "code",
   "execution_count": 1,
   "id": "00721231",
   "metadata": {},
   "outputs": [],
   "source": [
    "## IMPORTAMOS LIBRERÍAS\n",
    "import pandas as pd\n",
    "import os\n",
    "import numpy as np\n",
    "import requests\n",
    "import geopandas as gpd \n",
    "from shapely.geometry import Point"
   ]
  },
  {
   "cell_type": "code",
   "execution_count": 2,
   "id": "73c03922",
   "metadata": {},
   "outputs": [],
   "source": [
    "## Funciones a importar:\n",
    "\n",
    "def distance_meters(lat_start, long_start, lat_finish, long_finish):\n",
    "    # return the distance in metres between to latitude/longitude pair point in degrees (i.e.: 40.392436 / -3.6994487)\n",
    "    start = to_mercator(lat_start, long_start)\n",
    "    finish = to_mercator(lat_finish, long_finish)\n",
    "    return start.distance(finish)\n",
    "\n",
    "def distance_m(mercator_start, mercator_finish):\n",
    "    return mercator_start.distance(mercator_finish)\n",
    "\n",
    "\n",
    "def to_mercator(lat, long):\n",
    "    # transform latitude/longitude data in degrees to pseudo-mercator coordinates in metres\n",
    "    c = gpd.GeoSeries([Point(lat, long)], crs=4326)\n",
    "    c = c.to_crs(3857)\n",
    "    return c"
   ]
  },
  {
   "cell_type": "code",
   "execution_count": 13,
   "id": "0c6beb03",
   "metadata": {},
   "outputs": [],
   "source": [
    "#FUNCIÓN QUE EXPORTA DATOS DE BICIMAD Y DEVUELVE EL DATASET CON EL MODELO DE DATOS QUE BUSCAMOS\n",
    "\n",
    "def getdata_bicimad():\n",
    "    bicimad_data = pd.read_json(\"../data/bicimad.json\")\n",
    "    bicimad_data = bicimad_data.drop(columns=['id','light',\"number\",\"activate\",\"no_available\",\"total_bases\", \"dock_bikes\",\"free_bases\",\"reservations_count\",\"geometry_type\"])\n",
    "    bicimad_data['LATITUD']=bicimad_data['geometry_coordinates'].map(lambda x:x.split(',')[0].replace(\"[\",\"\")).astype(float)\n",
    "    bicimad_data['LONGITUD']=bicimad_data['geometry_coordinates'].map(lambda x:x.split(',')[1].replace(\"]\",\"\")).astype(float)\n",
    "    bicimad_data = bicimad_data.drop(columns=['geometry_coordinates'])\n",
    "    bicimad_data = bicimad_data.rename(columns={'LATITUD':'lat_finish','LONGITUD':'long_finish'})\n",
    "    bicimad_data[\"PUNTO B\"] = bicimad_data.apply(lambda x: to_mercator(x[\"lat_finish\"],x[\"long_finish\"]), axis = 1)\n",
    "\n",
    "    return bicimad_data"
   ]
  },
  {
   "cell_type": "code",
   "execution_count": 4,
   "id": "b089412a",
   "metadata": {},
   "outputs": [],
   "source": [
    "#FUNCIÓN QUE EXPORTA DATOS DEL AYUNTAMIENTO Y DEVUELVE EL DATASET CON EL MODELO DE DATOS PARA UNIR CON ESCUELAS_INFANTILES\n",
    "\n",
    "def get_data_colegios_publicos():\n",
    "    colegios_publicos_data = requests.get('https://datos.madrid.es/egob/catalogo/202311-0-colegios-publicos.json')\n",
    "    colegios_publicos_data = colegios_publicos_data.json()\n",
    "    colegios_publicos_data = pd.json_normalize(colegios_publicos_data['@graph'])\n",
    "    colegios_publicos_data = colegios_publicos_data.drop(columns=[\"@id\",\"@type\",\"id\",\"relation\",\"address.district.@id\",\"address.area.@id\",\"address.locality\",\"address.postal-code\",\"organization.organization-desc\",\"organization.accesibility\",\"organization.schedule\",\"organization.services\",\"organization.organization-name\"])\n",
    "    colegios_publicos_data = colegios_publicos_data.assign(Tipo_Centro = \"Colegios Publicos\")\n",
    "    return colegios_publicos_data    \n",
    "    "
   ]
  },
  {
   "cell_type": "code",
   "execution_count": 5,
   "id": "41a46ad3",
   "metadata": {},
   "outputs": [],
   "source": [
    "#FUNCIÓN QUE EXPORTA DATOS DEL AYUNTAMIENTO Y DEVUELVE EL DATASET CON EL MODELO DE DATOS PARA UNIR CON COLEGIOS PUBLICOS\n",
    "\n",
    "def getdata_escuelas_infantiles():\n",
    "    escuelas_infantiles_data = requests.get('https://datos.madrid.es/egob/catalogo/202318-0-escuelas-infantiles.json')\n",
    "    escuelas_infantiles_data = escuelas_infantiles_data.json()\n",
    "    escuelas_infantiles_data = pd.json_normalize(escuelas_infantiles_data['@graph'])\n",
    "    escuelas_infantiles_data = escuelas_infantiles_data.drop(columns=[\"@id\",\"@type\",\"id\",\"relation\",\"address.district.@id\",\"address.area.@id\",\"address.locality\",\"address.postal-code\",\"organization.organization-desc\",\"organization.accesibility\",\"organization.schedule\",\"organization.services\",\"organization.organization-name\"])\n",
    "    escuelas_infantiles_data =escuelas_infantiles_data.assign(Tipo_Centro = \"Escuelas Infantiles\")\n",
    "    return escuelas_infantiles_data"
   ]
  },
  {
   "cell_type": "code",
   "execution_count": 6,
   "id": "83d1292a",
   "metadata": {},
   "outputs": [],
   "source": [
    "#FUNCIÓN QUE CONCATENA DATASETS\n",
    "\n",
    "def concat_dataset_ayuntamiento(data1,data2):\n",
    "    result = pd.concat([data1, data2], axis=0)\n",
    "    return result\n",
    "\n",
    "# Es más apropiado utilizar merge\n",
    "def concat_dataset_proyect(data1,data2):\n",
    "    result2 = pd.merge(data1, data2 ,how=\"cross\")\n",
    "    return result2"
   ]
  },
  {
   "cell_type": "code",
   "execution_count": 7,
   "id": "4da8bc91",
   "metadata": {},
   "outputs": [],
   "source": [
    "# FUNCIÓN QUE RENOMBRA LAS COLUMNAS DEL DATASET DEL AYUNTAMIENTO Y ASIGNA COORDENADA PUNTO A\n",
    "\n",
    "def renamecols_ayuntamiento (ayuntamiento_data):\n",
    "    ayuntamiento_data = ayuntamiento_data.rename(columns={'location.latitude':'lat_start','location.longitude':'long_start'})\n",
    "    ayuntamiento_data[\"PUNTO A\"] = ayuntamiento_data.apply(lambda x: to_mercator(x[\"lat_start\"],x[\"long_start\"]), axis = 1)\n"
   ]
  },
  {
   "cell_type": "code",
   "execution_count": 8,
   "id": "9734ff35",
   "metadata": {},
   "outputs": [],
   "source": [
    "# FUNCIÓN QUE AÑADE VALORES AL RESULTADO DE LA COLUMNA DE DISTANCIA Y ELIMINA LA INFORMACION NECESARIA Y LIMPIA LAS COLUMNAS RESTANTES\n",
    "\n",
    "def distance_data (dataset, distancia):\n",
    "    dataset[\"(distancia)\"] = dataset.apply(lambda x: distance_m(x[\"PUNTO A\"], x[\"PUNTO B\"]), axis = 1)\n",
    "    dataset = dataset.drop(['lat_start','long_start', 'long_finish', 'lat_finish','PUNTO A','PUNTO B'], axis='columns')    \n",
    "    return dataset"
   ]
  },
  {
   "cell_type": "code",
   "execution_count": 9,
   "id": "bae43a82",
   "metadata": {},
   "outputs": [],
   "source": [
    "## FUNCIÓN PARA RECIBIR EL INPUT Y DEVOLVER LA DISTANCIA MÍNIMA\n",
    "\n",
    "def result():\n",
    "    df_filter = df_sumary[df_sumary[\"Place of interest\"] == input('Pon el lugar de interés: ')]\n",
    "    pre_minimum = df_filter[df_filter['Distance'] == df_filter['Distance'].head(1)]\n",
    "    result = pre_minimum[[\"Place of interest\",\"Type of place\",\"Place address\",\"BiciMAD station\",\"Station location\",\"Distance\"]]\n",
    "    return result\n"
   ]
  },
  {
   "cell_type": "code",
   "execution_count": 12,
   "id": "a1b4f057",
   "metadata": {},
   "outputs": [
    {
     "data": {
      "text/plain": [
       "<function __main__.result()>"
      ]
     },
     "execution_count": 12,
     "metadata": {},
     "output_type": "execute_result"
    }
   ],
   "source": [
    "result"
   ]
  },
  {
   "cell_type": "code",
   "execution_count": null,
   "id": "a47d806d",
   "metadata": {},
   "outputs": [],
   "source": []
  }
 ],
 "metadata": {
  "kernelspec": {
   "display_name": "Python [conda env:proyecto_IH_1_env]",
   "language": "python",
   "name": "conda-env-proyecto_IH_1_env-py"
  },
  "language_info": {
   "codemirror_mode": {
    "name": "ipython",
    "version": 3
   },
   "file_extension": ".py",
   "mimetype": "text/x-python",
   "name": "python",
   "nbconvert_exporter": "python",
   "pygments_lexer": "ipython3",
   "version": "3.7.11"
  }
 },
 "nbformat": 4,
 "nbformat_minor": 5
}
