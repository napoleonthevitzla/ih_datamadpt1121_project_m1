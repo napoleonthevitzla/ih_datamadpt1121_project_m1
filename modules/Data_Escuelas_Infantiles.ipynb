{
 "cells": [
  {
   "cell_type": "code",
   "execution_count": 7,
   "id": "ef78700c",
   "metadata": {},
   "outputs": [],
   "source": [
    "# IMPORTAMOS LIBRERIAS\n",
    "import pandas as pd\n",
    "import numpy as np\n",
    "import re\n",
    "import bs4\n",
    "import requests"
   ]
  },
  {
   "cell_type": "code",
   "execution_count": 9,
   "id": "b3e26e61",
   "metadata": {},
   "outputs": [],
   "source": [
    "# DEFINIMOS LA URL VICTIMA\n",
    "url = \"https://datos.madrid.es/egob/catalogo/202318-0-escuelas-infantiles.csv\""
   ]
  },
  {
   "cell_type": "code",
   "execution_count": 10,
   "id": "91f663bb",
   "metadata": {},
   "outputs": [
    {
     "data": {
      "text/plain": [
       "<Response [200]>"
      ]
     },
     "execution_count": 10,
     "metadata": {},
     "output_type": "execute_result"
    }
   ],
   "source": [
    "# RECOPILAMOS TODA LA INFO DE ESA URL\n",
    "#response = requests.get(url)\n",
    "#response"
   ]
  },
  {
   "cell_type": "code",
   "execution_count": 11,
   "id": "c021ccb6",
   "metadata": {},
   "outputs": [
    {
     "data": {
      "text/plain": [
       "bytes"
      ]
     },
     "execution_count": 11,
     "metadata": {},
     "output_type": "execute_result"
    }
   ],
   "source": [
    "#csv = response.content\n",
    "#type(csv)"
   ]
  },
  {
   "cell_type": "code",
   "execution_count": 19,
   "id": "fa948f50",
   "metadata": {},
   "outputs": [
    {
     "ename": "SyntaxError",
     "evalue": "(unicode error) 'unicodeescape' codec can't decode bytes in position 0-1: truncated \\UXXXXXXXX escape (951308751.py, line 2)",
     "output_type": "error",
     "traceback": [
      "\u001b[0;36m  File \u001b[0;32m\"/var/folders/30/vsgs8bp94b7b17m8zr60lgnh0000gn/T/ipykernel_7765/951308751.py\"\u001b[0;36m, line \u001b[0;32m2\u001b[0m\n\u001b[0;31m    schools_data = pd.read_csv(\"\\Users\\antoniohuerta\\ih_data_project_m1\\ih_datamadpt1121_project_m1\\data_ayuntamiento\\202318-0-escuelas-infantiles.csv\", sep =';')\u001b[0m\n\u001b[0m                              ^\u001b[0m\n\u001b[0;31mSyntaxError\u001b[0m\u001b[0;31m:\u001b[0m (unicode error) 'unicodeescape' codec can't decode bytes in position 0-1: truncated \\UXXXXXXXX escape\n"
     ]
    }
   ],
   "source": [
    "#escuelas_data=pd.read_csv(url, sep =' ')\n",
    "schools_data = pd.read_csv(\"\\Users\\antoniohuerta\\ih_data_project_m1\\ih_datamadpt1121_project_m1\\data_ayuntamiento\\202318-0-escuelas-infantiles.csv\", sep =';')\n"
   ]
  },
  {
   "cell_type": "code",
   "execution_count": null,
   "id": "c8b7ea27",
   "metadata": {},
   "outputs": [],
   "source": []
  }
 ],
 "metadata": {
  "kernelspec": {
   "display_name": "Python [conda env:jupyter_env] *",
   "language": "python",
   "name": "conda-env-jupyter_env-py"
  },
  "language_info": {
   "codemirror_mode": {
    "name": "ipython",
    "version": 3
   },
   "file_extension": ".py",
   "mimetype": "text/x-python",
   "name": "python",
   "nbconvert_exporter": "python",
   "pygments_lexer": "ipython3",
   "version": "3.7.11"
  }
 },
 "nbformat": 4,
 "nbformat_minor": 5
}
